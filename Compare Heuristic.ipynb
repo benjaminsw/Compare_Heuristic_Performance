{
 "cells": [
  {
   "cell_type": "markdown",
   "metadata": {},
   "source": [
    "#Compare Heuristic"
   ]
  },
  {
   "cell_type": "markdown",
   "metadata": {},
   "source": [
    "Demonstrate a metaheuristic which performs better on one probability distribution of\n",
    "knapsack problem do better than another heuristic and vice versa. "
   ]
  },
  {
   "cell_type": "markdown",
   "metadata": {},
   "source": [
    "#### 4 problem generator functions "
   ]
  },
  {
   "cell_type": "code",
   "execution_count": 15,
   "metadata": {
    "collapsed": false
   },
   "outputs": [],
   "source": [
    "from random import randint\n",
    "numberOfItems = 100\n",
    "maxWeight = 10\n",
    "maxValue = maxWeight # we assume the maxWeight and maxValue are the same.\n",
    "max_capacity = 250\n",
    "\n",
    "#weight and value are uniformly distributed for all items\n",
    "def generateProblemUniformRandom():\n",
    "    #the weight and values are uniformly distributed\n",
    "    problem = [[x, randint(1,maxWeight), randint(1,maxValue)] for x in range(numberOfItems)]\n",
    "    return problem\n",
    "#weight and value are equal for a given item\n",
    "def generateProblemWeightEqualsValue():\n",
    "    #the weight and values are equal\n",
    "    problem = []\n",
    "    for x in range(numberOfItems):\n",
    "        itemWeightValue = randint(1, maxWeight)\n",
    "        problem.append([x, itemWeightValue, itemWeightValue])\n",
    "    return problem\n",
    "#weight+value is constant for a given item\n",
    "def generateProblemWeightPlusValueConstant():\n",
    "    problem = []\n",
    "    for x in range(numberOfItems):\n",
    "        itemValue = randint(1, maxWeight)\n",
    "        problem.append([x, itemValue, maxWeight-itemValue])\n",
    "    return problem\n",
    "#weight>value items\n",
    "def generateProblemWeightLessThanValue():\n",
    "    problem = []\n",
    "    for x in range(numberOfItems):\n",
    "        itemValue = randint(1, maxValue)\n",
    "        itemWeight = randint(1, itemValue) # the weight is less than the value\n",
    "        problem.append([x, itemValue, itemWeight])\n",
    "    return problem"
   ]
  },
  {
   "cell_type": "code",
   "execution_count": 16,
   "metadata": {
    "collapsed": false
   },
   "outputs": [
    {
     "data": {
      "text/html": [
       "<div>\n",
       "<table border=\"1\" class=\"dataframe\">\n",
       "  <thead>\n",
       "    <tr style=\"text-align: right;\">\n",
       "      <th></th>\n",
       "      <th>index</th>\n",
       "      <th>value</th>\n",
       "      <th>weight</th>\n",
       "    </tr>\n",
       "  </thead>\n",
       "  <tbody>\n",
       "    <tr>\n",
       "      <th>0</th>\n",
       "      <td>0</td>\n",
       "      <td>4</td>\n",
       "      <td>8</td>\n",
       "    </tr>\n",
       "    <tr>\n",
       "      <th>1</th>\n",
       "      <td>1</td>\n",
       "      <td>10</td>\n",
       "      <td>4</td>\n",
       "    </tr>\n",
       "    <tr>\n",
       "      <th>2</th>\n",
       "      <td>2</td>\n",
       "      <td>4</td>\n",
       "      <td>10</td>\n",
       "    </tr>\n",
       "    <tr>\n",
       "      <th>3</th>\n",
       "      <td>3</td>\n",
       "      <td>7</td>\n",
       "      <td>3</td>\n",
       "    </tr>\n",
       "    <tr>\n",
       "      <th>4</th>\n",
       "      <td>4</td>\n",
       "      <td>4</td>\n",
       "      <td>8</td>\n",
       "    </tr>\n",
       "  </tbody>\n",
       "</table>\n",
       "</div>"
      ],
      "text/plain": [
       "   index  value  weight\n",
       "0      0      4       8\n",
       "1      1     10       4\n",
       "2      2      4      10\n",
       "3      3      7       3\n",
       "4      4      4       8"
      ]
     },
     "execution_count": 16,
     "metadata": {},
     "output_type": "execute_result"
    }
   ],
   "source": [
    "#generate training data\n",
    "import pandas as pd\n",
    "problem = generateProblemUniformRandom()\n",
    "df = pd.DataFrame(problem, columns=['index', 'value', 'weight'])\n",
    "df.head()"
   ]
  },
  {
   "cell_type": "markdown",
   "metadata": {
    "collapsed": true
   },
   "source": [
    "##Multiple Restarts Hill-Climbing with all 0 start"
   ]
  },
  {
   "cell_type": "code",
   "execution_count": 17,
   "metadata": {
    "collapsed": false
   },
   "outputs": [],
   "source": [
    "import numpy as np\n",
    "#function to generate a binary representation of the items selected. \n",
    "def binrep(n,r):\n",
    "    return \"{0:0{1}b}\".format(n, r)\n",
    "#random.randint(1, 2**instance_number)\n",
    "weights = np.array(df[\"weight\"])   \n",
    "values = np.array(df[\"value\"])"
   ]
  },
  {
   "cell_type": "code",
   "execution_count": null,
   "metadata": {
    "collapsed": false
   },
   "outputs": [],
   "source": [
    "import random\n",
    "\n",
    "lst_trial_resultsMRHC=[]\n",
    "#numberOfItems = 100\n",
    "num_trials = 20\n",
    "while num_trials >0:\n",
    "    lst_best_value = []\n",
    "    best_value = 0\n",
    "    num_inter = 1000 #how many random points we use to initially use for search\n",
    "    while num_inter >0:\n",
    "        max_eval = 1000\n",
    "        items_selected = np.zeros(100)\n",
    "        while max_eval >0:\n",
    "            total_value = np.dot(values,items_selected)\n",
    "            total_weight = np.dot(weights,items_selected)\n",
    "            if total_weight <= max_capacity:\n",
    "                if total_value > best_value:\n",
    "                    best_value = total_value\n",
    "                    lst_best_value.append(best_value)\n",
    "            idx = random.randint(0,numberOfItems-1)\n",
    "            items_selected[idx] = int(not items_selected[idx]) \n",
    "            max_eval -=1\n",
    "        num_inter -=1\n",
    "    lst_trial_resultsMRHC.append(max(lst_best_value))\n",
    "    #print num_trials\n",
    "    num_trials -=1\n",
    "    "
   ]
  },
  {
   "cell_type": "code",
   "execution_count": null,
   "metadata": {
    "collapsed": false
   },
   "outputs": [
    {
     "data": {
      "text/plain": [
       "<function matplotlib.pyplot.show>"
      ]
     },
     "execution_count": 19,
     "metadata": {},
     "output_type": "execute_result"
    },
    {
     "data": {
      "image/png": "[encoded data removed]",
      "text/plain": [
       "<matplotlib.figure.Figure at 0xb9fff60>"
      ]
     },
     "metadata": {},
     "output_type": "display_data"
    }
   ],
   "source": [
    "%matplotlib inline\n",
    "import matplotlib.pyplot as plt\n",
    "plt.plot(list(xrange(0,len(lst_trial_resultsMRHC))), lst_trial_resultsMRHC)\n",
    "plt.show"
   ]
  },
  {
   "cell_type": "markdown",
   "metadata": {},
   "source": [
    "##Genetic Algorithms (GAs)"
   ]
  },
  {
   "cell_type": "code",
   "execution_count": null,
   "metadata": {
    "collapsed": false
   },
   "outputs": [],
   "source": [
    "###initiate popoulation size and values\n",
    "pop_size = 50\n",
    "genes_selected = []\n",
    "while pop_size>0:\n",
    "    sample_selected = np.zeros(100)\n",
    "    genes_selected.append(sample_selected)\n",
    "    pop_size -= 1"
   ]
  },
  {
   "cell_type": "code",
   "execution_count": null,
   "metadata": {
    "collapsed": false
   },
   "outputs": [],
   "source": [
    "#evaluate population\n",
    "max_weight = maxWeight\n",
    "arr_total_weights = np.dot(genes_selected, weights)\n",
    "arr_total_values = np.dot(genes_selected, values)\n",
    "for idx in xrange(0,arr_total_values.size):\n",
    "    if arr_total_weights[idx]>max_weight:\n",
    "        arr_total_values[idx]=0\n",
    "#print arr_total_values"
   ]
  },
  {
   "cell_type": "code",
   "execution_count": null,
   "metadata": {
    "collapsed": true
   },
   "outputs": [],
   "source": [
    "def tournament_selection(arr_total_values):\n",
    "    #make a deep cpoy of arr_total_value\n",
    "    tmp_total = copy.deepcopy(arr_total_values).tolist()\n",
    "    #randomly select individual from population pool which value is not zeo\n",
    "    ind1 = tmp_total.pop(random.randrange(len(tmp_total)))\n",
    "    #while ind1==0:\n",
    "        #ind1 = tmp_total.pop(random.randrange(len(tmp_total)))\n",
    "    ind2 = tmp_total.pop(random.randrange(len(tmp_total)))\n",
    "    #while ind2==0:\n",
    "        #ind2 = tmp_total.pop(random.randrange(len(tmp_total)))\n",
    "    #return better individual value\n",
    "    if ind1>=ind2:\n",
    "        return ind1\n",
    "    else:\n",
    "        return ind2\n",
    "\n",
    "#print tournament_selection(arr_total_values)"
   ]
  },
  {
   "cell_type": "code",
   "execution_count": null,
   "metadata": {
    "collapsed": true
   },
   "outputs": [],
   "source": [
    "# function for crossover \n",
    "def crossover(mom,dad):\n",
    "    cut = random.randint(0,len(mom)) \n",
    "    return np.append(mom[0:cut], dad[cut:]), np.append(dad[0:cut], mom[cut:])"
   ]
  },
  {
   "cell_type": "code",
   "execution_count": null,
   "metadata": {
    "collapsed": true
   },
   "outputs": [],
   "source": [
    "# function for mutation offspting\n",
    "def mutate(offspring):\n",
    "    idx = random.randint(0,len(offspring)-1)\n",
    "    offspring[idx] = int(not offspring[idx]) \n",
    "    return offspring"
   ]
  },
  {
   "cell_type": "code",
   "execution_count": null,
   "metadata": {
    "collapsed": true
   },
   "outputs": [],
   "source": [
    "#evaluate offspring\n",
    "#return fitness of offspring (offspring_value)\n",
    "def eval_offspring(offspring):\n",
    "    offspring_weight = np.dot(offspring, weights)\n",
    "    offspring_value = np.dot(offspring, values)\n",
    "    if offspring_weight>max_weight:\n",
    "        offspring_value = 0\n",
    "    return offspring_value, offspring_weight "
   ]
  },
  {
   "cell_type": "code",
   "execution_count": null,
   "metadata": {
    "collapsed": false
   },
   "outputs": [],
   "source": [
    "#run genetic algorithm (GA)\n",
    "import copy\n",
    "\n",
    "num_trials = 20\n",
    "lst_trial_resultsNAs=[]\n",
    "while num_trials >0:\n",
    "    generation = 500\n",
    "    lst_best_values = []\n",
    "\n",
    "    while generation>0:\n",
    "        #select mom and dad from values population pool\n",
    "        mom = tournament_selection(arr_total_values)\n",
    "        dad = tournament_selection(arr_total_values)\n",
    "        #select mom and dad genes that give good value fitness\n",
    "        idx_mom = random.choice(np.where(arr_total_values==mom)[0])\n",
    "        #print np.where(arr_total_values==mom)[0]\n",
    "        mom_genes = genes_selected[idx_mom]\n",
    "        idx_dad = random.choice(np.where(arr_total_values==dad)[0])\n",
    "        dad_genes = genes_selected[idx_dad]\n",
    "        #perform crossover\n",
    "        child1, child2 = crossover(mom_genes, dad_genes)\n",
    "        #mutate offsprings\n",
    "        child1 = mutate(child1)\n",
    "        child2 = mutate(child2)\n",
    "        #evaluate offsprings\n",
    "        child1_value, child1_weight = eval_offspring(child1)\n",
    "        child2_value, child2_weight = eval_offspring(child2)\n",
    "        #replace worst\n",
    "        inds = arr_total_values.argsort()\n",
    "        inds = inds[::-1]\n",
    "        arr_total_values = arr_total_values[inds]\n",
    "        arr_total_weights = arr_total_weights[inds]\n",
    "        tmp_genes = []\n",
    "        for i in inds:\n",
    "            tmp_genes.append(genes_selected[i])\n",
    "        genes_selected = tmp_genes\n",
    "        arr_total_values = np.append(arr_total_values[0:-2],[child1_value, child2_value])\n",
    "        arr_total_weights = np.append(arr_total_weights[0:-2],[child1_weight, child2_weight])\n",
    "        np.append(genes_selected[0:-2],[child1, child2])\n",
    "        #keep record of best value found so far\n",
    "        lst_best_values.append(arr_total_values[0])\n",
    "    \n",
    "        generation -= 1\n",
    "    #print lst_best_values[-1]\n",
    "    lst_trial_resultsNAs.append(max(lst_best_values))\n",
    "    #print num_trials\n",
    "    num_trials -= 1\n",
    "#lst_trial_results"
   ]
  },
  {
   "cell_type": "code",
   "execution_count": null,
   "metadata": {
    "collapsed": false
   },
   "outputs": [
    {
     "data": {
      "text/plain": [
       "<function matplotlib.pyplot.show>"
      ]
     },
     "execution_count": 27,
     "metadata": {},
     "output_type": "execute_result"
    },
    {
     "data": {
      "image/png": "[encoded data removed]",
      "text/plain": [
       "<matplotlib.figure.Figure at 0xbeaaeb8>"
      ]
     },
     "metadata": {},
     "output_type": "display_data"
    }
   ],
   "source": [
    "#best population values found so far\n",
    "%matplotlib inline\n",
    "plt.plot(list(xrange(0,len(lst_trial_resultsNAs))), lst_trial_resultsNAs)\n",
    "plt.show"
   ]
  },
  {
   "cell_type": "code",
   "execution_count": null,
   "metadata": {
    "collapsed": false
   },
   "outputs": [
    {
     "data": {
      "image/png": "[encoded data removed]",
      "text/plain": [
       "<matplotlib.figure.Figure at 0xbcb52e8>"
      ]
     },
     "metadata": {},
     "output_type": "display_data"
    }
   ],
   "source": [
    "plt.plot(list(xrange(0,len(lst_trial_resultsMRHC))), lst_trial_resultsMRHC, 'g-', label='MRHC')\n",
    "plt.plot(list(xrange(0,len(lst_trial_resultsNAs))), lst_trial_resultsNAs, 'r-', label='NAs')\n",
    "plt.show()"
   ]
  },
  {
   "cell_type": "code",
   "execution_count": null,
   "metadata": {
    "collapsed": true
   },
   "outputs": [],
   "source": []
  }
 ],
 "metadata": {
  "kernelspec": {
   "display_name": "Python 2",
   "language": "python",
   "name": "python2"
  },
  "language_info": {
   "codemirror_mode": {
    "name": "ipython",
    "version": 2
   },
   "file_extension": ".py",
   "mimetype": "text/x-python",
   "name": "python",
   "nbconvert_exporter": "python",
   "pygments_lexer": "ipython2",
   "version": "2.7.10"
  }
 },
 "nbformat": 4,
 "nbformat_minor": 0
}
